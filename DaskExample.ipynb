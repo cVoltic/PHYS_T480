{
 "cells": [
  {
   "cell_type": "markdown",
   "metadata": {},
   "source": [
    "# Dask Example\n",
    "\n",
    "Just a quick example to illustrate the use of We will use [`dask`](http://dask.pydata.org/en/latest/) to handle larger data sets than we have been using for examples.  \n",
    "\n",
    "In short the problem is that we don't have enough memory to process the full test array at once and the amount of free disk for swap is also insufficient.\n",
    "\n",
    "The example is for a generic `model.predict()` method for any of the `sklearn` algorithms"
   ]
  },
  {
   "cell_type": "code",
   "execution_count": null,
   "metadata": {
    "collapsed": true
   },
   "outputs": [],
   "source": [
    "from sklearn.model_selection import train_test_split\n",
    "# Split the training data into training and test sets for cross-validation\n",
    "Xtrain, Xtest, ytrain, ytest = train_test_split(X, y, test_size=0.25, random_state=42)"
   ]
  },
  {
   "cell_type": "code",
   "execution_count": null,
   "metadata": {
    "collapsed": true
   },
   "outputs": [],
   "source": [
    "from dask import compute, delayed\n",
    "\n",
    "# Define process to be executed\n",
    "def process(Xin):\n",
    "    return model.predict(Xin)\n",
    "\n",
    "# Create dask objects\n",
    "# Reshape is necessary because the format of x as drawm from Xtest \n",
    "# is not what sklearn wants.\n",
    "dobjs = [delayed(process)(x.reshape(1,-1)) for x in Xtest]"
   ]
  },
  {
   "cell_type": "code",
   "execution_count": null,
   "metadata": {
    "collapsed": true
   },
   "outputs": [],
   "source": [
    "# Do the computation, one process at a time instead of all at once\n",
    "import dask.threaded\n",
    "ypred = compute(*dobjs, get=dask.threaded.get)"
   ]
  },
  {
   "cell_type": "code",
   "execution_count": null,
   "metadata": {
    "collapsed": true
   },
   "outputs": [],
   "source": [
    "# The dask output is sort of odd, so this is just to put the result back into the expected format.\n",
    "ypred = np.array(ypred).reshape(1,-1)[0]"
   ]
  },
  {
   "cell_type": "code",
   "execution_count": null,
   "metadata": {
    "collapsed": true
   },
   "outputs": [],
   "source": [
    "fig = plt.figure(figsize=(6,6))\n",
    "plt.scatter(ytest,ypred)\n",
    "plt.show()"
   ]
  }
 ],
 "metadata": {
  "kernelspec": {
   "display_name": "Python [default]",
   "language": "python",
   "name": "python2"
  },
  "language_info": {
   "codemirror_mode": {
    "name": "ipython",
    "version": 2
   },
   "file_extension": ".py",
   "mimetype": "text/x-python",
   "name": "python",
   "nbconvert_exporter": "python",
   "pygments_lexer": "ipython2",
   "version": "2.7.12"
  }
 },
 "nbformat": 4,
 "nbformat_minor": 1
}
