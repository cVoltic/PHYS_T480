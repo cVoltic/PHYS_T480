{
 "cells": [
  {
   "cell_type": "markdown",
   "metadata": {
    "slideshow": {
     "slide_type": "slide"
    }
   },
   "source": [
    "## Analysis of Stochastic Processes ($\\S$ 10.5)\n",
    "\n",
    "If a system is always variable, but the variability is not (infinitely) predictable, then we have a [**stochastic**](https://en.wikipedia.org/wiki/Stochastic) process.  Counter to what you may think, these processes can also be characterized."
   ]
  },
  {
   "cell_type": "markdown",
   "metadata": {
    "slideshow": {
     "slide_type": "slide"
    }
   },
   "source": [
    "Take a (stochastically varying) quasar which has both *line* and *continuum* emission and where the line emission is stimulated by the continuum.  Since there is a physical separation between the regions that produce each type of emission, we get a delay between the light curves as can be seen here:\n",
    "\n",
    "![Peterson 2001, RM](https://ned.ipac.caltech.edu/level5/Sept01/Peterson2/Figures/figure24.jpg)"
   ]
  },
  {
   "cell_type": "markdown",
   "metadata": {
    "slideshow": {
     "slide_type": "slide"
    }
   },
   "source": [
    "To understand stochastic processes, let's first talk about [correlation functions](https://en.wikipedia.org/wiki/Correlation_function).  A correlation function ($\\S$ 6.5) gives us information about the time delay between 2 processes.  If one time series is derived from another simply by shifting the time axis by $t_{\\rm lag}$, then their correlation function will have a peak at $\\Delta t = t_{\\rm lag}$.\n",
    "\n",
    "The correlation function between $f(t)$, and $g(t)$ is defined as\n",
    "$${\\rm CF}(\\Delta t) = \\frac{\\lim_{T\\rightarrow \\infty}\\frac{1}{T}\\int_T f(t)g(t+\\Delta t)dt }{\\sigma_f \\sigma_g}$$"
   ]
  },
  {
   "cell_type": "markdown",
   "metadata": {
    "slideshow": {
     "slide_type": "slide"
    }
   },
   "source": [
    "Computing the correlation function is basically the mathematical processes of sliding the two curves over each other and computing the degree of similarity for each step in time.  The peak of the correlation function reveals the time delay between the processes.  Below we have the correlation function of the line and continuum emission from a quasar, which reveals a $\\sim$ 15 day delay between the two.\n",
    "\n",
    "![Peterson 2001, RM](https://ned.ipac.caltech.edu/level5/Sept01/Peterson2/Figures/figure25.jpg)"
   ]
  },
  {
   "cell_type": "markdown",
   "metadata": {
    "slideshow": {
     "slide_type": "slide"
    }
   },
   "source": [
    "In an **autocorrelation function (ACF)**, $f(t)= g(t)$ and we instead are revealing information about variability timescales present in a process.\n",
    "If the values of $y$ are uncorrelated, then ACF$(\\Delta t)=0$.\n",
    "\n",
    "The Fourier Transform of an ACF is the [Power Spectral Density (PSD)](https://en.wikipedia.org/wiki/Spectral_density).  So, the PSD is an analysis in frequency space and the ACF is in time space.  For example, for a sinusoidal function in time space, the ACF will have period, $T$, and the PSD in frequency space is a $\\delta$ function centered on $\\omega = 1/2\\pi T$."
   ]
  },
  {
   "cell_type": "markdown",
   "metadata": {
    "slideshow": {
     "slide_type": "slide"
    }
   },
   "source": [
    "The *structure function* is another quantity that is frequently used in astronomy and is related to the ACF:\n",
    "\n",
    "$${\\rm SF}(\\Delta t) = {\\rm SF}_\\infty[1 - {\\rm ACF}(\\Delta t)]^{1/2},$$\n",
    "\n",
    "where ${\\rm SF}_\\infty$ is the standard deviation of the time series as evaluated on timescales much larger than any charateristic timescale.\n",
    "\n",
    "If ${\\rm SF} \\propto t^{\\alpha}$, then ${\\rm PSD} \\propto \\frac{1}{f^{1+2\\alpha}}$.\n",
    "\n",
    "So an analysis of a stochastic system can be done with either the ACF, SF, or PSD."
   ]
  },
  {
   "cell_type": "markdown",
   "metadata": {
    "slideshow": {
     "slide_type": "slide"
    }
   },
   "source": [
    "AstroML has [time series](http://www.astroml.org/modules/classes.html#module-astroML.time_series) and [Fourier](http://www.astroml.org/modules/classes.html#module-astroML.fourier) tools for generating light curves drawn from a power law in frequency space.  Note that these tools define $\\beta = 1+2\\alpha$. Complete the cell below to make a plot of counts vs. time and of the PSD vs. frequency for both a $1/f$ and a $1/f^2$ process.  (Where the latter is known as Brownian motion or a **random walk**.)"
   ]
  },
  {
   "cell_type": "code",
   "execution_count": null,
   "metadata": {
    "collapsed": true,
    "slideshow": {
     "slide_type": "slide"
    }
   },
   "outputs": [],
   "source": [
    "import numpy as np\n",
    "from matplotlib import pyplot as plt\n",
    "from astroML.time_series import generate_power_law\n",
    "from astroML.fourier import PSD_continuous\n",
    "\n",
    "N = 2014\n",
    "dt = 0.01\n",
    "beta = 2\n",
    "\n",
    "t = dt * np.arange(N)\n",
    "y = generate_power_law(# Complete\n",
    "f, PSD = PSD_continuous(# Complete\n",
    "    \n",
    "fig = plt.figure(figsize=(8, 4))\n",
    "ax1 = fig.add_subplot(121)\n",
    "ax1.plot(t, y, '-k')\n",
    "ax1.set_xlim(0, 10)\n",
    "\n",
    "ax2 = fig.add_subplot(122, xscale='log', yscale='log')\n",
    "ax2.plot(f, PSD, '-k')   \n",
    "ax2.set_xlim(1E-1, 60)\n",
    "ax2.set_ylim(1E-11, 1E-3)\n",
    "\n",
    "plt.show()"
   ]
  },
  {
   "cell_type": "markdown",
   "metadata": {
    "slideshow": {
     "slide_type": "slide"
    }
   },
   "source": [
    "You should find that, because the power at high frequency is larger for $1/f$, that light curve will look noisier.\n",
    "\n",
    "We can even *hear* the difference:\n",
    "[https://www.youtube.com/watch?v=3vEDZ-_iLNU)](https://www.youtube.com/watch?v=3vEDZ-_iLNU)"
   ]
  },
  {
   "cell_type": "code",
   "execution_count": null,
   "metadata": {
    "collapsed": true,
    "slideshow": {
     "slide_type": "slide"
    }
   },
   "outputs": [],
   "source": [
    "# Ivezic, Figure 10.29\n",
    "# Author: Jake VanderPlas\n",
    "# License: BSD\n",
    "#   The figure produced by this code is published in the textbook\n",
    "#   \"Statistics, Data Mining, and Machine Learning in Astronomy\" (2013)\n",
    "#   For more information, see http://astroML.github.com\n",
    "#   To report a bug or issue, use the following forum:\n",
    "#    https://groups.google.com/forum/#!forum/astroml-general\n",
    "import numpy as np\n",
    "from matplotlib import pyplot as plt\n",
    "from astroML.time_series import generate_power_law\n",
    "from astroML.fourier import PSD_continuous\n",
    "\n",
    "N = 1024\n",
    "dt = 0.01\n",
    "factor = 100\n",
    "\n",
    "t = dt * np.arange(N)\n",
    "random_state = np.random.RandomState(1)\n",
    "\n",
    "fig = plt.figure(figsize=(5, 3.75))\n",
    "fig.subplots_adjust(wspace=0.05)\n",
    "\n",
    "for i, beta in enumerate([1.0, 2.0]):\n",
    "    # Generate the light curve and compute the PSD\n",
    "    x = factor * generate_power_law(N, dt, beta, random_state=random_state)\n",
    "    f, PSD = PSD_continuous(t, x)\n",
    "\n",
    "    # First axes: plot the time series\n",
    "    ax1 = fig.add_subplot(221 + i)\n",
    "    ax1.plot(t, x, '-k')\n",
    "\n",
    "    ax1.text(0.95, 0.05, r\"$P(f) \\propto f^{-%i}$\" % beta,\n",
    "             ha='right', va='bottom', transform=ax1.transAxes)\n",
    "\n",
    "    ax1.set_xlim(0, 10.24)\n",
    "    ax1.set_ylim(-1.5, 1.5)\n",
    "\n",
    "    ax1.set_xlabel(r'$t$')\n",
    "\n",
    "    # Second axes: plot the PSD\n",
    "    ax2 = fig.add_subplot(223 + i, xscale='log', yscale='log')\n",
    "    ax2.plot(f, PSD, '-k')\n",
    "    ax2.plot(f[1:], (factor * dt) ** 2 * (2 * np.pi * f[1:]) ** -beta, '--k')\n",
    "\n",
    "    ax2.set_xlim(1E-1, 60)\n",
    "    ax2.set_ylim(1E-6, 1E1)\n",
    "\n",
    "    ax2.set_xlabel(r'$f$')\n",
    "\n",
    "    if i == 1:\n",
    "        ax1.yaxis.set_major_formatter(plt.NullFormatter())\n",
    "        ax2.yaxis.set_major_formatter(plt.NullFormatter())\n",
    "    else:\n",
    "        ax1.set_ylabel(r'${\\rm counts}$')\n",
    "        ax2.set_ylabel(r'$PSD(f)$')\n",
    "\n",
    "plt.show()"
   ]
  },
  {
   "cell_type": "markdown",
   "metadata": {
    "slideshow": {
     "slide_type": "slide"
    }
   },
   "source": [
    "### ACF for Unevenly Sampled Data\n",
    "\n",
    "astroML also has tools for computing the ACF of unevenly sampled data using two different (Scargle) and (Edelson & Krolik) methods: [http://www.astroml.org/modules/classes.html#module-astroML.time_series](http://www.astroml.org/modules/classes.html#module-astroML.time_series)\n",
    "\n",
    "One of the tools is for generating a **damped random walk (DRW)**.  Above we found that a random walk had a $1/f^2$ PSD.  A *damped* random walk is a process \"remembers\" its history only for a characteristic time, $\\tau$. The ACF vanishes for $\\Delta t \\gg \\tau$."
   ]
  },
  {
   "cell_type": "code",
   "execution_count": 2,
   "metadata": {
    "collapsed": true,
    "slideshow": {
     "slide_type": "slide"
    }
   },
   "outputs": [],
   "source": [
    "# Syntax for EK and Scargle ACF computation\n",
    "import numpy as np\n",
    "from astroML.time_series import generate_damped_RW\n",
    "from astroML.time_series import ACF_scargle, ACF_EK\n",
    "\n",
    "t = np.arange(0,1000)\n",
    "y = generate_damped_RW(t, tau=300)\n",
    "dy = 0.1\n",
    "y = np.random.normal(y,dy)\n",
    "\n",
    "ACF_scargle, bins_scargle = ACF_scargle(t,y,dy)\n",
    "ACF_EK, ACF_err_EK, bins_EK = ACF_EK(t,y,dy)"
   ]
  },
  {
   "cell_type": "markdown",
   "metadata": {
    "slideshow": {
     "slide_type": "slide"
    }
   },
   "source": [
    "Figure 10.30 below gives an example of an ACF for a DRW, which mimics the variability that we might see from a quasar.  (Note that the Scargle method doesn't seem to be working.)"
   ]
  },
  {
   "cell_type": "code",
   "execution_count": null,
   "metadata": {
    "collapsed": true,
    "slideshow": {
     "slide_type": "slide"
    }
   },
   "outputs": [],
   "source": [
    "# Ivezic, Figure 10.30\n",
    "# Author: Jake VanderPlas\n",
    "# License: BSD\n",
    "#   The figure produced by this code is published in the textbook\n",
    "#   \"Statistics, Data Mining, and Machine Learning in Astronomy\" (2013)\n",
    "#   For more information, see http://astroML.github.com\n",
    "#   To report a bug or issue, use the following forum:\n",
    "#    https://groups.google.com/forum/#!forum/astroml-general\n",
    "import numpy as np\n",
    "from matplotlib import pyplot as plt\n",
    "\n",
    "from astroML.time_series import lomb_scargle, generate_damped_RW\n",
    "from astroML.time_series import ACF_scargle, ACF_EK\n",
    "\n",
    "#------------------------------------------------------------\n",
    "# Generate time-series data:\n",
    "#  we'll do 1000 days worth of magnitudes\n",
    "\n",
    "t = np.arange(0, 1E3)\n",
    "z = 2.0\n",
    "tau = 300\n",
    "tau_obs = tau / (1. + z)\n",
    "\n",
    "np.random.seed(6)\n",
    "y = generate_damped_RW(t, tau=tau, z=z, xmean=20)\n",
    "\n",
    "# randomly sample 100 of these\n",
    "ind = np.arange(len(t))\n",
    "np.random.shuffle(ind)\n",
    "ind = ind[:100]\n",
    "ind.sort()\n",
    "t = t[ind]\n",
    "y = y[ind]\n",
    "\n",
    "# add errors\n",
    "dy = 0.1\n",
    "y_obs = np.random.normal(y, dy)\n",
    "\n",
    "#------------------------------------------------------------\n",
    "# compute ACF via scargle method\n",
    "C_S, t_S = ACF_scargle(t, y_obs, dy, n_omega=2 ** 12, omega_max=np.pi / 5.0)\n",
    "\n",
    "ind = (t_S >= 0) & (t_S <= 500)\n",
    "t_S = t_S[ind]\n",
    "C_S = C_S[ind]\n",
    "\n",
    "#------------------------------------------------------------\n",
    "# compute ACF via E-K method\n",
    "C_EK, C_EK_err, bins = ACF_EK(t, y_obs, dy, bins=np.linspace(0, 500, 51))\n",
    "t_EK = 0.5 * (bins[1:] + bins[:-1])\n",
    "\n",
    "#------------------------------------------------------------\n",
    "# Plot the results\n",
    "fig = plt.figure(figsize=(8, 8))\n",
    "\n",
    "# plot the input data\n",
    "ax = fig.add_subplot(211)\n",
    "ax.errorbar(t, y_obs, dy, fmt='.k', lw=1)\n",
    "ax.set_xlabel('t (days)')\n",
    "ax.set_ylabel('observed flux')\n",
    "\n",
    "# plot the ACF\n",
    "ax = fig.add_subplot(212)\n",
    "ax.plot(t_S, C_S, '-', c='gray', lw=1, label='Scargle')\n",
    "ax.errorbar(t_EK, C_EK, C_EK_err, fmt='.k', lw=1, label='Edelson-Krolik')\n",
    "ax.plot(t_S, np.exp(-abs(t_S) / tau_obs), '-k', label='True')\n",
    "ax.legend(loc=3)\n",
    "\n",
    "ax.plot(t_S, 0 * t_S, ':', lw=1, c='gray')\n",
    "\n",
    "ax.set_xlim(0, 500)\n",
    "ax.set_ylim(-1.0, 1.1)\n",
    "\n",
    "ax.set_xlabel('t (days)')\n",
    "ax.set_ylabel('ACF(t)')\n",
    "\n",
    "plt.show()"
   ]
  },
  {
   "cell_type": "markdown",
   "metadata": {
    "slideshow": {
     "slide_type": "slide"
    }
   },
   "source": [
    "## Autoregressive Models\n",
    "\n",
    "For processes like these that are not periodic, but that \"retain memory\" of previous states, we can use [autogressive models](https://en.wikipedia.org/wiki/Autoregressive_model).\n",
    "\n",
    "A random walk is an example of such a process; every new value is given by the preceeding value plus some noise:\n",
    "\n",
    "$$y_i = y_{i-1} + \\epsilon_i.$$\n",
    "\n",
    "If the coefficient of $y_{i-1}$ is $>1$ then it is known as a geometric random walk, which is typical of the stock market.  (So, when you interview for a quant position on Wall Street, you tell them that you are an expert in using autoregressive geometric random walks to model stochastic processes.)"
   ]
  },
  {
   "cell_type": "markdown",
   "metadata": {
    "slideshow": {
     "slide_type": "slide"
    }
   },
   "source": [
    "In the random walk case above, each new value depends only on the immediately preceeding value.  But we can generalized this to include $p$ values:\n",
    "\n",
    "$$y_i = \\sum_{j=1}^pa_jy_{i-j} + \\epsilon_i$$\n",
    "\n",
    "We refer to this as an [**autoregressive (AR)**](https://en.wikipedia.org/wiki/Autoregressive_model) process of order $p$: $AR(p)$.  For a random walk, we have $p=1$, and $a_1=1$.\n",
    "\n",
    "If the data are drawn from a \"stationary\" process (one where it doesn't matter what region of the light curve you sample [so long as it is representative]), the $a_j$ satisfy certain conditions.\n",
    "\n",
    "One thing that we might do then is ask whether a system is more consistent with $a_1=0$ or $a_1=1$ (noise vs. a random walk)."
   ]
  },
  {
   "cell_type": "markdown",
   "metadata": {
    "slideshow": {
     "slide_type": "slide"
    }
   },
   "source": [
    "Below are some example light curves for specific $AR(p)$ processes.  In the first example, $AR(0)$, the light curve is simply responding to noise fluctuations.  In the second example, $AR(1)$, the noise fluctuation responses are persisting for slightly longer as the next time step depends positively on the time before.  For the 3rd example, nearly the full effect of the noise spike from the previous time step is applied again, giving particularly long and high chains of peaks and valleys.  In the 4th example, $AR(2)$, we have long, but low chains of peaks and valleys as a spike persists for an extra time step.  Finally, in the 5th example, the response of a spike in the second time step has the opposite sign as for the first time step, and both have large coefficients, so the peaks and valleys are both quite high and quite narrowly separated.\n",
    "\n",
    "![AR Examples](https://upload.wikimedia.org/wikipedia/commons/thumb/c/ce/ArTimeSeries.svg/1000px-ArTimeSeries.svg.png)"
   ]
  },
  {
   "cell_type": "markdown",
   "metadata": {
    "slideshow": {
     "slide_type": "slide"
    }
   },
   "source": [
    "A [**moving average (MA)**](https://en.wikipedia.org/wiki/Moving-average_model) process is similar in some ways to an AR process, but is different in other ways.  It is defined as\n",
    "\n",
    "$$y_i = \\epsilon_i + \\sum_{j=1}^qb_j\\epsilon_{i-j}.$$\n",
    "\n",
    "So, for example, an MA(q=1) process would look like\n",
    "$$y_i = \\epsilon_{i} + b_1\\epsilon_{i-1},$$\n",
    "\n",
    "whereas an AR(p=2) process would look like\n",
    "\n",
    "$$y_i = a_1y_{i-1} +  a_2y_{i-2} + \\epsilon_i$$\n",
    "\n",
    "Thus the $MA$ process is similar to an $AR$ process in that the next time step depends on the previous time step, but they are different in terms of how they respond to a *shock*.  In an $MA$ process a shock affects only the current value and $q$ values into the future.  In an $AR$ process a shock affects *all* future values.\n",
    "\n",
    "Below is some code and a plot that illustrates this."
   ]
  },
  {
   "cell_type": "code",
   "execution_count": null,
   "metadata": {
    "collapsed": true,
    "slideshow": {
     "slide_type": "slide"
    }
   },
   "outputs": [],
   "source": [
    "%matplotlib inline\n",
    "import numpy as np\n",
    "from matplotlib import pyplot as plt\n",
    "from matplotlib.ticker import MultipleLocator\n",
    "\n",
    "N=10\n",
    "\n",
    "#epsilon = np.array([0,0,0,1,0,0,0,0,0,0,0,0])\n",
    "epsilon = np.zeros(N+2)\n",
    "epsilon[3] = 1\n",
    "yAR=np.zeros(N+2)\n",
    "yMA=np.zeros(N+2)\n",
    "yARMA=np.zeros(N+2)\n",
    "\n",
    "for i in np.arange(N)+2:\n",
    "    # Complete using the coefficients given in the legend text below\n",
    "    yAR[i] = \n",
    "    yMA[i] = \n",
    "    yARMA[i] = \n",
    "    #print i, yAR[i], yMA[i]\n",
    "\n",
    "fig = plt.figure(figsize=(6, 6))\n",
    "t = np.arange(len(yAR))\n",
    "plt.plot(t,yAR,label=\"AR(2), a_1=0.5, a_2=0.5\")\n",
    "plt.plot(t,yMA,label=\"MA(2), b_1=0.5, b_2=0.5\")\n",
    "plt.plot(t,yARMA,label=\"ARMA(2,1), a_1=0.5, a_2=0.25, b_1=0.5\",zorder=0)\n",
    "plt.xlabel(\"t\")\n",
    "plt.ylabel(\"y\")\n",
    "plt.legend(loc=\"upper right\",prop={'size':8})\n",
    "plt.ylim([0,1.1])\n",
    "ax = plt.axes()\n",
    "ax.xaxis.set_major_locator(plt.MultipleLocator(1.0))\n",
    "\n",
    "plt.show()"
   ]
  },
  {
   "cell_type": "markdown",
   "metadata": {
    "slideshow": {
     "slide_type": "slide"
    }
   },
   "source": [
    "Note that I also included an ARMA(2,1) model, which combines AR(2) and MA(1):\n",
    "$$y_i = a_1y_{i-1} +  a_2y_{i-2} + \\epsilon_i + b_1 \\epsilon_{i-1}.$$"
   ]
  },
  {
   "cell_type": "markdown",
   "metadata": {
    "slideshow": {
     "slide_type": "slide"
    }
   },
   "source": [
    "I found these videos particularly helpful in trying to understand these processes.\n",
    "\n",
    "[MA(1)](https://www.youtube.com/watch?v=lUhtcP2SUsg)\n",
    "\n",
    "[AR(1)](https://www.youtube.com/watch?v=AN0a58F6cxA)\n",
    "\n",
    "[ARMA(1,1)](https://www.youtube.com/watch?v=Pg0RnP1uLVc)"
   ]
  },
  {
   "cell_type": "markdown",
   "metadata": {
    "slideshow": {
     "slide_type": "slide"
    }
   },
   "source": [
    "### CARMA Models\n",
    "\n",
    "$AR$ and $ARMA$ models assume evenly sampled time-series data.  However, we can extend this to unevenly sampled data with $CAR$ or $CARMA$ processes, where the $C$ stands for *continuous*.  \n",
    "\n",
    "A $CAR(1)$ process is described by a stochastic differential equation which includes a damping term that pushes $y(t)$ back towards the mean, so it is also a **damped random walk (DRW)**.  For evenly sampled data a CAR(1) process is the same as an AR(1) process with $a_1=\\exp(-1/\\tau)$.  That is, the next value is the previous value times the damping factor (plus noise).\n",
    "\n",
    "The ACF for a DRW is given by\n",
    "$$ ACF(t) = \\exp(-t/\\tau),$$\n",
    "where $\\tau$ is the characteristic timescale (i.e., the damping timescale).\n",
    "\n",
    "The structure function can be written as\n",
    "$$ SF(t) = SF_{\\infty}[1-\\exp(-t/\\tau)]^{1/2}.$$\n",
    "\n",
    "The PSD is then\n",
    "$$ PSD(f) = \\frac{\\tau^2 SF_{\\infty}^2}{1+(2\\pi f \\tau)^2},$$\n",
    "which means that a DRW is a $1/f^2$ process at high frequency.  The *damped* part comes from the flat PSD at low frequency.\n",
    "\n",
    "The ACF example above was an example of a DRW: the light curve is strongly correlated a short timescales, but uncorrelated at long timescales.\n"
   ]
  },
  {
   "cell_type": "markdown",
   "metadata": {
    "slideshow": {
     "slide_type": "slide"
    }
   },
   "source": [
    "## Regression and Classification\n",
    "\n",
    "Regression and Classification for these stochastic models is just the same as before.   With our model and model parameters, we can predict future values via regression, or look for similarities/differences as a function of the model parameters via clustering (unsupervised) or classification (supervised).  Similarly, we can apply dimensionality reduction techniques to help visualize results from high-dimensional models."
   ]
  }
 ],
 "metadata": {
  "anaconda-cloud": {},
  "celltoolbar": "Slideshow",
  "kernelspec": {
   "display_name": "Python [default]",
   "language": "python",
   "name": "python2"
  },
  "language_info": {
   "codemirror_mode": {
    "name": "ipython",
    "version": 2
   },
   "file_extension": ".py",
   "mimetype": "text/x-python",
   "name": "python",
   "nbconvert_exporter": "python",
   "pygments_lexer": "ipython2",
   "version": "2.7.12"
  },
  "livereveal": {
   "scroll": "True",
   "theme": "serif"
  }
 },
 "nbformat": 4,
 "nbformat_minor": 0
}
